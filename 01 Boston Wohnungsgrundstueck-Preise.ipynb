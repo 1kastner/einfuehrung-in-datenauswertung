{
 "cells": [
  {
   "cell_type": "markdown",
   "metadata": {},
   "source": [
    "<a rel=\"license\" href=\"http://creativecommons.org/licenses/by/4.0/\"><img alt=\"Creative Commons Lizenzvertrag\" style=\"border-width:0\" src=\"https://i.creativecommons.org/l/by/4.0/88x31.png\" /></a><br />Dieses Werk von Marvin Kastner ist lizenziert unter einer <a rel=\"license\" href=\"http://creativecommons.org/licenses/by/4.0/\">Creative Commons Namensnennung 4.0 International Lizenz</a>."
   ]
  },
  {
   "cell_type": "markdown",
   "metadata": {},
   "source": [
    "# Boston Wohnungsgrundstueck-Preise\n",
    "\n",
    "Hier wird exemplarisch gezeigt, wie scikit-learn für eine Aufgabe wie eine lineare Regression eingestetzt werden kann.\n",
    "Dies heißt, wir suchen nach den passenden Gewichten $\\beta_i$ für die folgende Gleichung:\n",
    "\n",
    "$$ y=\\beta _{0} + \\beta _{1} \\cdot x_{1} + \\cdots + \\beta _{p} \\cdot x_{p} + \\varepsilon $$"
   ]
  },
  {
   "cell_type": "markdown",
   "metadata": {},
   "source": [
    "Zunächst laden wir einen Datensatz.\n",
    "Der wird bereits bei scikit-learn mit ausgeliefert.\n",
    "Hierzu schauen wir uns nun die näheren Informationen an."
   ]
  },
  {
   "cell_type": "code",
   "execution_count": null,
   "metadata": {},
   "outputs": [],
   "source": [
    "import sklearn.datasets\n",
    "boston = sklearn.datasets.load_boston()\n",
    "print(boston.DESCR)"
   ]
  },
  {
   "cell_type": "markdown",
   "metadata": {},
   "source": [
    "Wir können auch direkt die Daten betrachten.\n",
    "Nur meistens helfen einem all die Zahlen in nicht aufbereiteter Form wenig."
   ]
  },
  {
   "cell_type": "code",
   "execution_count": null,
   "metadata": {},
   "outputs": [],
   "source": [
    "boston"
   ]
  },
  {
   "cell_type": "markdown",
   "metadata": {},
   "source": [
    "## Untersuche Zielwert"
   ]
  },
  {
   "cell_type": "markdown",
   "metadata": {},
   "source": [
    "In der Ausgabe oben kann man kaum etwas erkennen.\n",
    "Aber wie teuer sind die Häuser überhaupt so ungefähr?\n",
    "\n",
    "Dafür importieren wir zunächst das Modul `matplotlib`, mit welchem man visualisieren kann."
   ]
  },
  {
   "cell_type": "code",
   "execution_count": null,
   "metadata": {},
   "outputs": [],
   "source": [
    "import matplotlib.pyplot as plt"
   ]
  },
  {
   "cell_type": "markdown",
   "metadata": {},
   "source": [
    "Nun können wir die Verteilung der Hauspreise grafisch darstellen:"
   ]
  },
  {
   "cell_type": "code",
   "execution_count": null,
   "metadata": {},
   "outputs": [],
   "source": [
    "plt.hist(boston.target)\n",
    "plt.ylabel(\"Anzahl\")\n",
    "plt.xlabel(\"Hauspreis in 1000 US-\\$\")\n",
    "plt.show()"
   ]
  },
  {
   "cell_type": "markdown",
   "metadata": {},
   "source": [
    "Nun wollen wir uns die Statistiken dazu berechnen.\n",
    "Dafür nutzen wir das Modul `statistics`."
   ]
  },
  {
   "cell_type": "code",
   "execution_count": null,
   "metadata": {},
   "outputs": [],
   "source": [
    "import statistics\n",
    "\n",
    "print(\"Mittelwert: \\t\\t\", statistics.mean(boston.target))\n",
    "print(\"Median: \\t\\t\", statistics.median(boston.target))\n",
    "print(\"Standardabweichung: \\t\", statistics.stdev(boston.target))"
   ]
  },
  {
   "cell_type": "markdown",
   "metadata": {},
   "source": [
    "## Untersuche Attribute\n",
    "\n",
    "Mithilfe der Attribute, den weiteren Eigenschaften einer Nachbarschaft, möchten wir später den Preis des Hauses vorhersagen.\n",
    "Dafür schauen wir uns nun zunächst an, wie die Eigenschaften im Datensatz verteilt sind.\n",
    "Dafür wird ein Scatterplot eingesetzt."
   ]
  },
  {
   "cell_type": "code",
   "execution_count": null,
   "metadata": {
    "scrolled": false
   },
   "outputs": [],
   "source": [
    "for feature_name, data_column in zip(boston.feature_names, boston.data.T):\n",
    "    plt.plot(data_column, boston.target, \"b.\")\n",
    "    plt.ylabel(\"Hauspreis in 1000 US-\\$\")\n",
    "    plt.xlabel(feature_name)\n",
    "    plt.show()"
   ]
  },
  {
   "cell_type": "markdown",
   "metadata": {},
   "source": [
    "Weitere Informationen zu der Plot-Funktion findet man mithilfe des Fragezeichen-Operators:"
   ]
  },
  {
   "cell_type": "code",
   "execution_count": null,
   "metadata": {},
   "outputs": [],
   "source": [
    "?plt.plot"
   ]
  },
  {
   "cell_type": "markdown",
   "metadata": {},
   "source": [
    "Für einige der Attribute war ein Scatterplot definitiv die falsche Visualisierungsform.\n",
    "Welche Art von Plots würde sich hier noch anbieten - insbesondere für die Variable CHAS?\n",
    "Eine Liste von Plot-Befehlen ist [hier](https://matplotlib.org/api/pyplot_summary.html) zu finden."
   ]
  },
  {
   "cell_type": "code",
   "execution_count": null,
   "metadata": {},
   "outputs": [],
   "source": [
    "# hier gerne weitere Plots kreieren"
   ]
  },
  {
   "cell_type": "markdown",
   "metadata": {},
   "source": [
    "## Passe Lineare Regression an\n",
    "\n",
    "Für das Maschinelle Lernen wird ein bestehender Datensatz in einen Trainings- und einen Test-Datensatz aufgeteilt.\n",
    "Mit dem Trainings-Datensatz passen wir unsere $\\beta_i$-Werte in der folgenden Gleichung an:\n",
    "\n",
    "$$ y=\\beta _{0} + \\beta _{1} \\cdot x_{1} + \\cdots + \\beta _{p} \\cdot x_{p} + \\varepsilon $$\n",
    "\n",
    "Mit dem Test-Datensatz erproben wir dann, wie gut wir nun diesen \"vorhersagen\" können.\n",
    "Die Idee ist, dass man die Modelle immer mit bislang nicht betrachteten Daten überprüfen soll."
   ]
  },
  {
   "cell_type": "code",
   "execution_count": null,
   "metadata": {},
   "outputs": [],
   "source": [
    "import sklearn.model_selection"
   ]
  },
  {
   "cell_type": "markdown",
   "metadata": {},
   "source": [
    "Der Datensatz wird nun in einen Trainings-Datensatz und einen Test-Datensatz aufgeteilt.\n",
    "Der Trainings-Datensatz wird 67 % der insgesamt vorhandenen Daten enthalten, der Test-Datensatz 33 %."
   ]
  },
  {
   "cell_type": "code",
   "execution_count": null,
   "metadata": {},
   "outputs": [],
   "source": [
    "X_train, X_test, Y_train, Y_test = sklearn.model_selection.train_test_split(\n",
    "    boston.data, boston.target, test_size=0.33)"
   ]
  },
  {
   "cell_type": "markdown",
   "metadata": {},
   "source": [
    "Nun könnten wir die Attribute X_train mit dem Zielwert Y_train genauso untersuchen, wie wir es bereits mit `boston.data` gemacht haben.\n",
    "Allerdings ist der Split zufällig erfolgt und deswegen sollte sich eigentlich nichts grundlegend geändert haben.\n",
    "\n",
    "Nun importieren wir das Lineare Modell als Lernalgorithmus und passen die Gewichte $\\beta_i$ an den vorliegenden Datensatz an:"
   ]
  },
  {
   "cell_type": "code",
   "execution_count": null,
   "metadata": {},
   "outputs": [],
   "source": [
    "import sklearn.linear_model\n",
    "lm = sklearn.linear_model.LinearRegression()\n",
    "lm.fit(X_train, Y_train)\n",
    "\n",
    "print(\"\\nIntercept:\", f\"{lm.intercept_:9.4f}\\n\")\n",
    "\n",
    "print(\"Feature\\t    Koeffizient\\n-----------|-----------------\")\n",
    "for feature, coefficient in zip(boston.feature_names, lm.coef_):\n",
    "    print(\"{:<10}\".format(feature), f\"{coefficient:9.4f}\")"
   ]
  },
  {
   "cell_type": "markdown",
   "metadata": {},
   "source": [
    "Das heißt, dass die Lineare Regressionsgleichung ungefähr so lautet:\n",
    "\n",
    "$$ y = 25,19 \n",
    "    + -0,12 \\cdot x_{1} \n",
    "    + 0,04 \\cdot x_{2}\n",
    "    + \\cdots\n",
    "    + \\varepsilon $$\n",
    "\n",
    "Je nach Durchlauf variiert diese Gleichung, weil der Trainings-Datensatz durch den zufälligen Split immer ein wenig anders aussieht."
   ]
  },
  {
   "cell_type": "markdown",
   "metadata": {},
   "source": [
    "Nun können wir das Lineare Modell auch schon einsetzen, um Vorhersagen zu treffen:"
   ]
  },
  {
   "cell_type": "code",
   "execution_count": null,
   "metadata": {},
   "outputs": [],
   "source": [
    "print(\"\\nEingabe:\")\n",
    "[print(\"\\t{:<10}\".format(feature), attr) for feature, attr in zip(boston.feature_names, X_test[0])]\n",
    "print()\n",
    "ausgabe = lm.predict(X_test[0:1])[0]\n",
    "print(\"Ausgabe: \", ausgabe, \"\\n\")"
   ]
  },
  {
   "cell_type": "markdown",
   "metadata": {},
   "source": [
    "Das heißt, wenn ich für ein Haus die Werte gesammelt habe, dann kann ich nun einen Preis berechnen.\n",
    "In diesem Fall sind es `22.77`.\n",
    "Weil es 1000 US-$ sind, muss die Zahl noch mal 1000 gerechnet werden, d. h. der Wert ist 22.770.\n",
    "\n",
    "Aber kann man dem Modell vertrauen? Das muss nun noch untersucht werden.\n",
    "Dafür lassen wir alle Zielwerte vom Test-Datensatz erstellen und vergleichen das Ergebnis mit dem tatsächlichen, bekannten Wert."
   ]
  },
  {
   "cell_type": "code",
   "execution_count": null,
   "metadata": {},
   "outputs": [],
   "source": [
    "Y_pred = lm.predict(X_test)"
   ]
  },
  {
   "cell_type": "markdown",
   "metadata": {},
   "source": [
    "Nun müssen wir noch den vorhergesagten mit dem tatsächlichen Wert vergleichen."
   ]
  },
  {
   "cell_type": "code",
   "execution_count": null,
   "metadata": {},
   "outputs": [],
   "source": [
    "plt.scatter(Y_test, Y_pred)\n",
    "plt.xlabel(\"Tatsächlicher Hauspreis in $1000 US-\\$\")\n",
    "plt.ylabel(\"Vorhergesagter Hauspreis in $1000 US-\\$\")\n",
    "\n",
    "plt.plot([0, 50], [0, 50], \"r\", label=\"perfekter Treffer\")\n",
    "plt.legend()\n",
    "\n",
    "plt.show()"
   ]
  },
  {
   "cell_type": "markdown",
   "metadata": {},
   "source": [
    "Nun können wir den Fehler des Modells berechnen.\n",
    "Das bezeichnet die Differenz zwischen der Vorhersage und dem tatsächlichen Wert."
   ]
  },
  {
   "cell_type": "code",
   "execution_count": null,
   "metadata": {},
   "outputs": [],
   "source": [
    "error = Y_test - Y_pred\n",
    "plt.hist(error)\n",
    "plt.xlabel(\"Differenz zwischen dem Hauspreis des Modells und des Tatsächlichen in $1000 US-\\$\")\n",
    "plt.show()"
   ]
  },
  {
   "cell_type": "markdown",
   "metadata": {},
   "source": [
    "Nun noch ein paar Metriken, wie wir sie für einen wissenschaftlichen Bericht brauchen könnten.\n",
    "Dort kann man Visualisierungen, wie sie oben zu sehen sind, nicht immer mit aufnehmen, weil der Platz nicht mehr reicht..."
   ]
  },
  {
   "cell_type": "code",
   "execution_count": null,
   "metadata": {},
   "outputs": [],
   "source": [
    "import sklearn.metrics"
   ]
  },
  {
   "cell_type": "markdown",
   "metadata": {},
   "source": [
    "Hier gibt es eine ganze Reihe von Metriken, die in verschiedenen Bereichen der Wissenschaft verwendet werden.\n",
    "Ob die Metrik im aktuellen Kontext hilfreich ist, muss der Mensch vor dem Bildschirm entscheiden."
   ]
  },
  {
   "cell_type": "code",
   "execution_count": null,
   "metadata": {},
   "outputs": [],
   "source": [
    "for score in dir(sklearn.metrics):\n",
    "    if score.endswith(\"_score\"):\n",
    "        print(score)"
   ]
  },
  {
   "cell_type": "markdown",
   "metadata": {},
   "source": [
    "Eine Auswahl von Metriken:"
   ]
  },
  {
   "cell_type": "code",
   "execution_count": null,
   "metadata": {},
   "outputs": [],
   "source": [
    "print(\"Mean absolute error: %.2f\" % sklearn.metrics.mean_absolute_error(Y_test, Y_pred))\n",
    "print(\"Mean squared error : %.2f\"  % sklearn.metrics.mean_squared_error(Y_test, Y_pred))\n",
    "print(\"r^2                : %.2f\"  % sklearn.metrics.r2_score(Y_test, Y_pred))"
   ]
  }
 ],
 "metadata": {
  "kernelspec": {
   "display_name": "Python 3",
   "language": "python",
   "name": "python3"
  },
  "language_info": {
   "codemirror_mode": {
    "name": "ipython",
    "version": 3
   },
   "file_extension": ".py",
   "mimetype": "text/x-python",
   "name": "python",
   "nbconvert_exporter": "python",
   "pygments_lexer": "ipython3",
   "version": "3.7.3"
  },
  "varInspector": {
   "cols": {
    "lenName": 16,
    "lenType": 16,
    "lenVar": 40
   },
   "kernels_config": {
    "python": {
     "delete_cmd_postfix": "",
     "delete_cmd_prefix": "del ",
     "library": "var_list.py",
     "varRefreshCmd": "print(var_dic_list())"
    },
    "r": {
     "delete_cmd_postfix": ") ",
     "delete_cmd_prefix": "rm(",
     "library": "var_list.r",
     "varRefreshCmd": "cat(var_dic_list()) "
    }
   },
   "types_to_exclude": [
    "module",
    "function",
    "builtin_function_or_method",
    "instance",
    "_Feature"
   ],
   "window_display": false
  }
 },
 "nbformat": 4,
 "nbformat_minor": 2
}
