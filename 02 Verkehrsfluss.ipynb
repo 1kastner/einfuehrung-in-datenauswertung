{
 "cells": [
  {
   "cell_type": "markdown",
   "metadata": {},
   "source": [
    "# Verkehrsfluss\n",
    "\n",
    "Die Stadt New York teilt ausführliche Verkehrsinformationen [hier](https://data.cityofnewyork.us/Transportation/Real-Time-Traffic-Speed-Data/qkm5-nuaq).\n",
    "Diese Verkehrsdaten möchten wir dahingehend untersuchen, ob sich für bestimmte Straßenabschnitte wiederkehrende Muster ergeben."
   ]
  },
  {
   "cell_type": "code",
   "execution_count": 2,
   "metadata": {},
   "outputs": [],
   "source": [
    "import os\n",
    "import random\n",
    "\n",
    "import pandas as pd\n",
    "import matplotlib.pyplot as plt\n",
    "from pandas.plotting import autocorrelation_plot\n",
    "\n",
    "pd.options.display.max_rows = 10  # zeige maximal 10 Einträge eines DataFrames an"
   ]
  },
  {
   "cell_type": "markdown",
   "metadata": {},
   "source": [
    "Als Erstes werden die Positionen der Streckenabschnitte geladen.\n",
    "Eine ausführliche Erklärung, was die Attribute bedeuten, ist [hier](https://dev.socrata.com/foundry/data.cityofnewyork.us/i4gi-tjb9) zu finden."
   ]
  },
  {
   "cell_type": "code",
   "execution_count": 15,
   "metadata": {},
   "outputs": [
    {
     "data": {
      "text/html": [
       "<div>\n",
       "<style scoped>\n",
       "    .dataframe tbody tr th:only-of-type {\n",
       "        vertical-align: middle;\n",
       "    }\n",
       "\n",
       "    .dataframe tbody tr th {\n",
       "        vertical-align: top;\n",
       "    }\n",
       "\n",
       "    .dataframe thead th {\n",
       "        text-align: right;\n",
       "    }\n",
       "</style>\n",
       "<table border=\"1\" class=\"dataframe\">\n",
       "  <thead>\n",
       "    <tr style=\"text-align: right;\">\n",
       "      <th></th>\n",
       "      <th>borough</th>\n",
       "      <th>data_as_of</th>\n",
       "      <th>encoded_poly_line</th>\n",
       "      <th>encoded_poly_line_lvls</th>\n",
       "      <th>id</th>\n",
       "      <th>link_id</th>\n",
       "      <th>link_name</th>\n",
       "      <th>link_points</th>\n",
       "      <th>owner</th>\n",
       "      <th>speed</th>\n",
       "      <th>status</th>\n",
       "      <th>transcom_id</th>\n",
       "      <th>travel_time</th>\n",
       "    </tr>\n",
       "  </thead>\n",
       "  <tbody>\n",
       "    <tr>\n",
       "      <th>0</th>\n",
       "      <td>Bronx</td>\n",
       "      <td>2019-10-14T04:04:03.000</td>\n",
       "      <td>gsbxFfftaMrFQ`BQvBWxBs@rCcBpe@wVnb@iU</td>\n",
       "      <td>BBBBBBBB</td>\n",
       "      <td>168</td>\n",
       "      <td>4456496</td>\n",
       "      <td>BWB S Toll Plaza - Queens Anchorage</td>\n",
       "      <td>40.814761,-73.83668 40.81354,-73.83659 40.8130...</td>\n",
       "      <td>NYC_DOT_LIC</td>\n",
       "      <td>52.81</td>\n",
       "      <td>0</td>\n",
       "      <td>4456496</td>\n",
       "      <td>82</td>\n",
       "    </tr>\n",
       "    <tr>\n",
       "      <th>1</th>\n",
       "      <td>Brooklyn</td>\n",
       "      <td>2019-10-14T04:04:03.000</td>\n",
       "      <td>gnyvF~i~bMcCsKaPys@wBuJo@yC</td>\n",
       "      <td>BBBBB</td>\n",
       "      <td>411</td>\n",
       "      <td>4763652</td>\n",
       "      <td>VNB E SI GANTRY UPPER LEVEL - BROOKLYN GANTRY ...</td>\n",
       "      <td>40.6040405,-74.052321 40.6047,-74.050301 40.60...</td>\n",
       "      <td>Verrazano-Narrows-Bridge</td>\n",
       "      <td>55.30</td>\n",
       "      <td>0</td>\n",
       "      <td>4763652</td>\n",
       "      <td>83</td>\n",
       "    </tr>\n",
       "    <tr>\n",
       "      <th>2</th>\n",
       "      <td>Queens</td>\n",
       "      <td>2019-10-14T04:04:03.000</td>\n",
       "      <td>}uvwFlebaMkMcUcIkNoH}N}AeEaAaEqC_KqAuDaCsE_EgH...</td>\n",
       "      <td>BBBBBBBBBBBBBB</td>\n",
       "      <td>319</td>\n",
       "      <td>4362251</td>\n",
       "      <td>LIE WB LITTLE NECK PKWY - NB CVE</td>\n",
       "      <td>40.7537504,-73.744391 40.75605,-73.740851 40.7...</td>\n",
       "      <td>NYC-DOT-Region 10</td>\n",
       "      <td>57.78</td>\n",
       "      <td>0</td>\n",
       "      <td>4362251</td>\n",
       "      <td>166</td>\n",
       "    </tr>\n",
       "    <tr>\n",
       "      <th>3</th>\n",
       "      <td>Queens</td>\n",
       "      <td>2019-10-14T04:04:03.000</td>\n",
       "      <td>cl}wFtbkaMfFiIdByBrD{DtAeAj@_@nA}@\\\\\\\\|BcAvBy@...</td>\n",
       "      <td>BBBBBBBBBBBBBBBBBBBBBBBBBBBBBBBBBBBBBBBBBBBBBB...</td>\n",
       "      <td>212</td>\n",
       "      <td>4362244</td>\n",
       "      <td>CVE NB LIE - WILLETS PT BLVD</td>\n",
       "      <td>40.78802,-73.79003 40.7868604,-73.78838 40.786...</td>\n",
       "      <td>NYC-DOT-Region 10</td>\n",
       "      <td>52.81</td>\n",
       "      <td>0</td>\n",
       "      <td>4362244</td>\n",
       "      <td>206</td>\n",
       "    </tr>\n",
       "    <tr>\n",
       "      <th>4</th>\n",
       "      <td>Manhattan</td>\n",
       "      <td>2019-10-14T04:04:03.000</td>\n",
       "      <td>gkhwFp~tbMoJdGkHnCaK`Fat@d`@oe@`NyD\\\\\\\\|@{L@wH...</td>\n",
       "      <td>BBBBBBBBBB</td>\n",
       "      <td>124</td>\n",
       "      <td>4456501</td>\n",
       "      <td>BBT W Toll Plaza - Manhattan Portal</td>\n",
       "      <td>40.68036,-74.00441001 40.6822,-74.0057201 40.6...</td>\n",
       "      <td>MTA Bridges &amp; Tunnels</td>\n",
       "      <td>47.84</td>\n",
       "      <td>-101</td>\n",
       "      <td>4456501</td>\n",
       "      <td>148</td>\n",
       "    </tr>\n",
       "  </tbody>\n",
       "</table>\n",
       "</div>"
      ],
      "text/plain": [
       "     borough               data_as_of  \\\n",
       "0      Bronx  2019-10-14T04:04:03.000   \n",
       "1   Brooklyn  2019-10-14T04:04:03.000   \n",
       "2     Queens  2019-10-14T04:04:03.000   \n",
       "3     Queens  2019-10-14T04:04:03.000   \n",
       "4  Manhattan  2019-10-14T04:04:03.000   \n",
       "\n",
       "                                   encoded_poly_line  \\\n",
       "0              gsbxFfftaMrFQ`BQvBWxBs@rCcBpe@wVnb@iU   \n",
       "1                        gnyvF~i~bMcCsKaPys@wBuJo@yC   \n",
       "2  }uvwFlebaMkMcUcIkNoH}N}AeEaAaEqC_KqAuDaCsE_EgH...   \n",
       "3  cl}wFtbkaMfFiIdByBrD{DtAeAj@_@nA}@\\\\\\\\|BcAvBy@...   \n",
       "4  gkhwFp~tbMoJdGkHnCaK`Fat@d`@oe@`NyD\\\\\\\\|@{L@wH...   \n",
       "\n",
       "                              encoded_poly_line_lvls   id  link_id  \\\n",
       "0                                           BBBBBBBB  168  4456496   \n",
       "1                                              BBBBB  411  4763652   \n",
       "2                                     BBBBBBBBBBBBBB  319  4362251   \n",
       "3  BBBBBBBBBBBBBBBBBBBBBBBBBBBBBBBBBBBBBBBBBBBBBB...  212  4362244   \n",
       "4                                         BBBBBBBBBB  124  4456501   \n",
       "\n",
       "                                           link_name  \\\n",
       "0                BWB S Toll Plaza - Queens Anchorage   \n",
       "1  VNB E SI GANTRY UPPER LEVEL - BROOKLYN GANTRY ...   \n",
       "2                   LIE WB LITTLE NECK PKWY - NB CVE   \n",
       "3                       CVE NB LIE - WILLETS PT BLVD   \n",
       "4                BBT W Toll Plaza - Manhattan Portal   \n",
       "\n",
       "                                         link_points  \\\n",
       "0  40.814761,-73.83668 40.81354,-73.83659 40.8130...   \n",
       "1  40.6040405,-74.052321 40.6047,-74.050301 40.60...   \n",
       "2  40.7537504,-73.744391 40.75605,-73.740851 40.7...   \n",
       "3  40.78802,-73.79003 40.7868604,-73.78838 40.786...   \n",
       "4  40.68036,-74.00441001 40.6822,-74.0057201 40.6...   \n",
       "\n",
       "                      owner  speed  status  transcom_id  travel_time  \n",
       "0               NYC_DOT_LIC  52.81       0      4456496           82  \n",
       "1  Verrazano-Narrows-Bridge  55.30       0      4763652           83  \n",
       "2         NYC-DOT-Region 10  57.78       0      4362251          166  \n",
       "3         NYC-DOT-Region 10  52.81       0      4362244          206  \n",
       "4     MTA Bridges & Tunnels  47.84    -101      4456501          148  "
      ]
     },
     "execution_count": 15,
     "metadata": {},
     "output_type": "execute_result"
    }
   ],
   "source": [
    "df = pd.read_json(\"https://data.cityofnewyork.us/resource/i4gi-tjb9.json\")\n",
    "df.head()"
   ]
  },
  {
   "cell_type": "code",
   "execution_count": 6,
   "metadata": {},
   "outputs": [
    {
     "name": "stdout",
     "output_type": "stream",
     "text": [
      "<class 'pandas.core.frame.DataFrame'>\n",
      "RangeIndex: 1000 entries, 0 to 999\n",
      "Data columns (total 13 columns):\n",
      "borough                   1000 non-null object\n",
      "data_as_of                1000 non-null object\n",
      "encoded_poly_line         1000 non-null object\n",
      "encoded_poly_line_lvls    1000 non-null object\n",
      "id                        1000 non-null int64\n",
      "link_id                   1000 non-null int64\n",
      "link_name                 1000 non-null object\n",
      "link_points               1000 non-null object\n",
      "owner                     1000 non-null object\n",
      "speed                     1000 non-null float64\n",
      "status                    1000 non-null int64\n",
      "transcom_id               1000 non-null int64\n",
      "travel_time               1000 non-null int64\n",
      "dtypes: float64(1), int64(5), object(7)\n",
      "memory usage: 101.6+ KB\n"
     ]
    }
   ],
   "source": [
    "df.info()"
   ]
  },
  {
   "cell_type": "markdown",
   "metadata": {},
   "source": [
    "In diesem Kontext heißt `object`, dass nur Zeichenketten vorliegen.\n",
    "`data_as_of` ist dem Namen nach aber keine Zeichenkette, sondern ein Datum.\n",
    "Somit ist die Repräsentation hier noch nicht ganz optimal.\n",
    "\n",
    "Aber die `link_id` ist bereits einmalig und die neu erstellte ID von dem Modul `pandas` wird hier nicht benötigt.\n",
    "Deswegen setzen wir einen neuen Index."
   ]
  },
  {
   "cell_type": "code",
   "execution_count": 16,
   "metadata": {},
   "outputs": [
    {
     "data": {
      "text/html": [
       "<div>\n",
       "<style scoped>\n",
       "    .dataframe tbody tr th:only-of-type {\n",
       "        vertical-align: middle;\n",
       "    }\n",
       "\n",
       "    .dataframe tbody tr th {\n",
       "        vertical-align: top;\n",
       "    }\n",
       "\n",
       "    .dataframe thead th {\n",
       "        text-align: right;\n",
       "    }\n",
       "</style>\n",
       "<table border=\"1\" class=\"dataframe\">\n",
       "  <thead>\n",
       "    <tr style=\"text-align: right;\">\n",
       "      <th></th>\n",
       "      <th>borough</th>\n",
       "      <th>data_as_of</th>\n",
       "      <th>encoded_poly_line</th>\n",
       "      <th>encoded_poly_line_lvls</th>\n",
       "      <th>id</th>\n",
       "      <th>link_name</th>\n",
       "      <th>link_points</th>\n",
       "      <th>owner</th>\n",
       "      <th>speed</th>\n",
       "      <th>status</th>\n",
       "      <th>transcom_id</th>\n",
       "      <th>travel_time</th>\n",
       "    </tr>\n",
       "    <tr>\n",
       "      <th>link_id</th>\n",
       "      <th></th>\n",
       "      <th></th>\n",
       "      <th></th>\n",
       "      <th></th>\n",
       "      <th></th>\n",
       "      <th></th>\n",
       "      <th></th>\n",
       "      <th></th>\n",
       "      <th></th>\n",
       "      <th></th>\n",
       "      <th></th>\n",
       "      <th></th>\n",
       "    </tr>\n",
       "  </thead>\n",
       "  <tbody>\n",
       "    <tr>\n",
       "      <th>4456496</th>\n",
       "      <td>Bronx</td>\n",
       "      <td>2019-10-14T04:04:03.000</td>\n",
       "      <td>gsbxFfftaMrFQ`BQvBWxBs@rCcBpe@wVnb@iU</td>\n",
       "      <td>BBBBBBBB</td>\n",
       "      <td>168</td>\n",
       "      <td>BWB S Toll Plaza - Queens Anchorage</td>\n",
       "      <td>40.814761,-73.83668 40.81354,-73.83659 40.8130...</td>\n",
       "      <td>NYC_DOT_LIC</td>\n",
       "      <td>52.81</td>\n",
       "      <td>0</td>\n",
       "      <td>4456496</td>\n",
       "      <td>82</td>\n",
       "    </tr>\n",
       "    <tr>\n",
       "      <th>4763652</th>\n",
       "      <td>Brooklyn</td>\n",
       "      <td>2019-10-14T04:04:03.000</td>\n",
       "      <td>gnyvF~i~bMcCsKaPys@wBuJo@yC</td>\n",
       "      <td>BBBBB</td>\n",
       "      <td>411</td>\n",
       "      <td>VNB E SI GANTRY UPPER LEVEL - BROOKLYN GANTRY ...</td>\n",
       "      <td>40.6040405,-74.052321 40.6047,-74.050301 40.60...</td>\n",
       "      <td>Verrazano-Narrows-Bridge</td>\n",
       "      <td>55.30</td>\n",
       "      <td>0</td>\n",
       "      <td>4763652</td>\n",
       "      <td>83</td>\n",
       "    </tr>\n",
       "    <tr>\n",
       "      <th>4362251</th>\n",
       "      <td>Queens</td>\n",
       "      <td>2019-10-14T04:04:03.000</td>\n",
       "      <td>}uvwFlebaMkMcUcIkNoH}N}AeEaAaEqC_KqAuDaCsE_EgH...</td>\n",
       "      <td>BBBBBBBBBBBBBB</td>\n",
       "      <td>319</td>\n",
       "      <td>LIE WB LITTLE NECK PKWY - NB CVE</td>\n",
       "      <td>40.7537504,-73.744391 40.75605,-73.740851 40.7...</td>\n",
       "      <td>NYC-DOT-Region 10</td>\n",
       "      <td>57.78</td>\n",
       "      <td>0</td>\n",
       "      <td>4362251</td>\n",
       "      <td>166</td>\n",
       "    </tr>\n",
       "    <tr>\n",
       "      <th>4362244</th>\n",
       "      <td>Queens</td>\n",
       "      <td>2019-10-14T04:04:03.000</td>\n",
       "      <td>cl}wFtbkaMfFiIdByBrD{DtAeAj@_@nA}@\\\\\\\\|BcAvBy@...</td>\n",
       "      <td>BBBBBBBBBBBBBBBBBBBBBBBBBBBBBBBBBBBBBBBBBBBBBB...</td>\n",
       "      <td>212</td>\n",
       "      <td>CVE NB LIE - WILLETS PT BLVD</td>\n",
       "      <td>40.78802,-73.79003 40.7868604,-73.78838 40.786...</td>\n",
       "      <td>NYC-DOT-Region 10</td>\n",
       "      <td>52.81</td>\n",
       "      <td>0</td>\n",
       "      <td>4362244</td>\n",
       "      <td>206</td>\n",
       "    </tr>\n",
       "    <tr>\n",
       "      <th>4456501</th>\n",
       "      <td>Manhattan</td>\n",
       "      <td>2019-10-14T04:04:03.000</td>\n",
       "      <td>gkhwFp~tbMoJdGkHnCaK`Fat@d`@oe@`NyD\\\\\\\\|@{L@wH...</td>\n",
       "      <td>BBBBBBBBBB</td>\n",
       "      <td>124</td>\n",
       "      <td>BBT W Toll Plaza - Manhattan Portal</td>\n",
       "      <td>40.68036,-74.00441001 40.6822,-74.0057201 40.6...</td>\n",
       "      <td>MTA Bridges &amp; Tunnels</td>\n",
       "      <td>47.84</td>\n",
       "      <td>-101</td>\n",
       "      <td>4456501</td>\n",
       "      <td>148</td>\n",
       "    </tr>\n",
       "  </tbody>\n",
       "</table>\n",
       "</div>"
      ],
      "text/plain": [
       "           borough               data_as_of  \\\n",
       "link_id                                       \n",
       "4456496      Bronx  2019-10-14T04:04:03.000   \n",
       "4763652   Brooklyn  2019-10-14T04:04:03.000   \n",
       "4362251     Queens  2019-10-14T04:04:03.000   \n",
       "4362244     Queens  2019-10-14T04:04:03.000   \n",
       "4456501  Manhattan  2019-10-14T04:04:03.000   \n",
       "\n",
       "                                         encoded_poly_line  \\\n",
       "link_id                                                      \n",
       "4456496              gsbxFfftaMrFQ`BQvBWxBs@rCcBpe@wVnb@iU   \n",
       "4763652                        gnyvF~i~bMcCsKaPys@wBuJo@yC   \n",
       "4362251  }uvwFlebaMkMcUcIkNoH}N}AeEaAaEqC_KqAuDaCsE_EgH...   \n",
       "4362244  cl}wFtbkaMfFiIdByBrD{DtAeAj@_@nA}@\\\\\\\\|BcAvBy@...   \n",
       "4456501  gkhwFp~tbMoJdGkHnCaK`Fat@d`@oe@`NyD\\\\\\\\|@{L@wH...   \n",
       "\n",
       "                                    encoded_poly_line_lvls   id  \\\n",
       "link_id                                                           \n",
       "4456496                                           BBBBBBBB  168   \n",
       "4763652                                              BBBBB  411   \n",
       "4362251                                     BBBBBBBBBBBBBB  319   \n",
       "4362244  BBBBBBBBBBBBBBBBBBBBBBBBBBBBBBBBBBBBBBBBBBBBBB...  212   \n",
       "4456501                                         BBBBBBBBBB  124   \n",
       "\n",
       "                                                 link_name  \\\n",
       "link_id                                                      \n",
       "4456496                BWB S Toll Plaza - Queens Anchorage   \n",
       "4763652  VNB E SI GANTRY UPPER LEVEL - BROOKLYN GANTRY ...   \n",
       "4362251                   LIE WB LITTLE NECK PKWY - NB CVE   \n",
       "4362244                       CVE NB LIE - WILLETS PT BLVD   \n",
       "4456501                BBT W Toll Plaza - Manhattan Portal   \n",
       "\n",
       "                                               link_points  \\\n",
       "link_id                                                      \n",
       "4456496  40.814761,-73.83668 40.81354,-73.83659 40.8130...   \n",
       "4763652  40.6040405,-74.052321 40.6047,-74.050301 40.60...   \n",
       "4362251  40.7537504,-73.744391 40.75605,-73.740851 40.7...   \n",
       "4362244  40.78802,-73.79003 40.7868604,-73.78838 40.786...   \n",
       "4456501  40.68036,-74.00441001 40.6822,-74.0057201 40.6...   \n",
       "\n",
       "                            owner  speed  status  transcom_id  travel_time  \n",
       "link_id                                                                     \n",
       "4456496               NYC_DOT_LIC  52.81       0      4456496           82  \n",
       "4763652  Verrazano-Narrows-Bridge  55.30       0      4763652           83  \n",
       "4362251         NYC-DOT-Region 10  57.78       0      4362251          166  \n",
       "4362244         NYC-DOT-Region 10  52.81       0      4362244          206  \n",
       "4456501     MTA Bridges & Tunnels  47.84    -101      4456501          148  "
      ]
     },
     "execution_count": 16,
     "metadata": {},
     "output_type": "execute_result"
    }
   ],
   "source": [
    "df = df.set_index(\"link_id\")\n",
    "df.head()"
   ]
  },
  {
   "cell_type": "markdown",
   "metadata": {},
   "source": [
    "## Visualisierung der betrachteten Strecke\n",
    "\n",
    "Zunächst visualisieren wir uns eine spezifische Strecke, die ausgewertet wird.\n",
    "Dafür wird der Text aus der Tabelle in eine Liste von Listen von Gradzahlen umgerechnet.\n",
    "`latlon` steht hier für Latitude-Longitude (Längengrad-Breitengrad) Koordinaten."
   ]
  },
  {
   "cell_type": "code",
   "execution_count": 33,
   "metadata": {},
   "outputs": [
    {
     "data": {
      "text/plain": [
       "[(40.68036, -74.00441001),\n",
       " (40.6822, -74.0057201),\n",
       " (40.6837, -74.00644),\n",
       " (40.68563, -74.00757),\n",
       " (40.6941205, -74.01288001),\n",
       " (40.7002801, -74.01529001),\n",
       " (40.70121, -74.0156),\n",
       " (40.703434, -74.0156101),\n",
       " (40.70499, -74.01519),\n",
       " (40.70609, -74.01468)]"
      ]
     },
     "execution_count": 33,
     "metadata": {},
     "output_type": "execute_result"
    }
   ],
   "source": [
    "examined_link_id = 4456501\n",
    "\n",
    "latlons = []\n",
    "coordinate_text = df.loc[examined_link_id][\"link_points\"].iloc[0]\n",
    "for latlon in coordinate_text.split(\" \"):\n",
    "    lat, lon = latlon.split(\",\")\n",
    "    lat, lon = float(lat), float(lon)\n",
    "    latlons.append((lat, lon))\n",
    "\n",
    "latlons"
   ]
  },
  {
   "cell_type": "markdown",
   "metadata": {},
   "source": [
    "Diese kann man nun auf einer Karte darstellen.\n",
    "Dafür bietet sich `folium` an."
   ]
  },
  {
   "cell_type": "code",
   "execution_count": 37,
   "metadata": {
    "scrolled": true
   },
   "outputs": [
    {
     "data": {
      "text/html": [
       "<div style=\"width:100%;\"><div style=\"position:relative;width:100%;height:0;padding-bottom:60%;\"><iframe src=\"data:text/html;charset=utf-8;base64,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\" style=\"position:absolute;width:100%;height:100%;left:0;top:0;border:none !important;\" allowfullscreen webkitallowfullscreen mozallowfullscreen></iframe></div></div>"
      ],
      "text/plain": [
       "<folium.folium.Map at 0x16883e211d0>"
      ]
     },
     "metadata": {},
     "output_type": "display_data"
    }
   ],
   "source": [
    "import folium\n",
    "\n",
    "m = folium.Map(latlons[0], zoom_start=11)\n",
    "folium.features.PolyLine(latlons, weight=8).add_to(m)\n",
    "display(m)"
   ]
  },
  {
   "cell_type": "code",
   "execution_count": 38,
   "metadata": {},
   "outputs": [],
   "source": [
    "#### HIER WEITERMACHEN"
   ]
  },
  {
   "cell_type": "markdown",
   "metadata": {},
   "source": [
    "### Bereinigen der Daten\n",
    "\n",
    "Häufig kommt es im CSV-Format zu Duplikaten.\n",
    "Ebenfalls kommt es manchmal zu Sprüngen, also das Einträge nicht streng der zeitlichen Reihenfolge nach sortiert sind.\n",
    "Dies ist häufig mit Problemen mit dem technischen System erklärbar.\n",
    "Solche Fehler wollen wir nun ausfindig machen.\n",
    "Die Maske zeigt nun mittels FALSE an, wenn es ein einmaliger Eintrag ist und mittels TRUE, wenn es sich um ein Duplikat handelt."
   ]
  },
  {
   "cell_type": "code",
   "execution_count": null,
   "metadata": {},
   "outputs": [],
   "source": [
    "mask = df.index.duplicated()\n",
    "mask"
   ]
  },
  {
   "cell_type": "markdown",
   "metadata": {},
   "source": [
    "Diese Maske kann nun genutzt werden, um die Duplikate sich anzeigen zu lassen.\n",
    "Wenn ein Eintrag zweimal vorkommt, so gibt es ein Duplikat.\n",
    "Wenn ein Eintrag $k$ Male vorkommt, so gibt es $k-1$ Duplikate.\n",
    "Diese lassen wir uns nun anzeigen."
   ]
  },
  {
   "cell_type": "code",
   "execution_count": null,
   "metadata": {},
   "outputs": [],
   "source": [
    "df.loc[mask]"
   ]
  },
  {
   "cell_type": "markdown",
   "metadata": {},
   "source": [
    "Nun werden die Duplikate entfernt.\n",
    "Die Tilde (\"~\") negiert die Maske, womit nun alle Zeilen ausgewählt werden, die KEINE Duplikate sind.\n",
    "Mit dieser Auswahl wird die Variable `df` neu belegt."
   ]
  },
  {
   "cell_type": "code",
   "execution_count": null,
   "metadata": {},
   "outputs": [],
   "source": [
    "df = df.loc[~df.index.duplicated()]"
   ]
  },
  {
   "cell_type": "markdown",
   "metadata": {},
   "source": [
    "Außerdem muss die richtige zeitliche Reihenfolge sichergestellt sein.\n",
    "Dies nennt man auch einen monoton ansteigenden Index."
   ]
  },
  {
   "cell_type": "code",
   "execution_count": null,
   "metadata": {},
   "outputs": [],
   "source": [
    "print(\"is monotonic increasing: \", df.index.is_monotonic_increasing)\n",
    "df = df.sort_index()\n",
    "print(\"is monotonic increasing: \", df.index.is_monotonic_increasing)"
   ]
  },
  {
   "cell_type": "markdown",
   "metadata": {},
   "source": [
    "Nun stellt sich die Frage, wie häufig die Daten übermittelt werden.\n",
    "Mit folgendem Trick bekommt man eine Übersicht:"
   ]
  },
  {
   "cell_type": "code",
   "execution_count": null,
   "metadata": {},
   "outputs": [],
   "source": [
    "pd.DataFrame(data=df.index).diff().describe()"
   ]
  },
  {
   "cell_type": "markdown",
   "metadata": {},
   "source": [
    "### Auswahl des Attributs"
   ]
  },
  {
   "cell_type": "markdown",
   "metadata": {},
   "source": [
    "Nun sind die Daten bereinigt. Nun können wir über die `plot`-Methode einzelne Attribute über die Zeit hinweg visualisieren.\n",
    "Aber eignet sich das Attribut `Speed` oder das Attribut `TravelTime` besser für die Betrachtung des Verkehrs?\n",
    "Was genau erfassen die Attribute `Speed` und `TravelTime` eigentlich?\n",
    "Neben den Daten liegt auf der Webseite die [PDF mit den Meta-Daten](http://data.beta.nyc//dataset/e8facf61-2bb1-49e0-9128-5a8797b214c8/resource/6b126292-b251-4e59-bfba-6844a633a3a2/download/metadatatrafficspeeds.pdf)."
   ]
  },
  {
   "cell_type": "markdown",
   "metadata": {},
   "source": [
    "#### Speed\n",
    "\n",
    "Im Folgenden werden die Werte geplottet, um einen visuellen Eindruck zu erhalten.\n",
    "Mit `iloc` werden nur die ersten 300 Einträge geplottet."
   ]
  },
  {
   "cell_type": "code",
   "execution_count": null,
   "metadata": {
    "scrolled": false
   },
   "outputs": [],
   "source": [
    "df.Speed.plot()\n",
    "plt.show()\n",
    "df.Speed.iloc[:300].plot()\n",
    "plt.show()"
   ]
  },
  {
   "cell_type": "markdown",
   "metadata": {},
   "source": [
    "Welche Uhrzeit ist ist an der 300sten Stelle im DataFrame, also dem letzten geplotteten Eintrag?\n",
    "Nutzen Sie die Methode `.iloc`."
   ]
  },
  {
   "cell_type": "code",
   "execution_count": null,
   "metadata": {},
   "outputs": [],
   "source": []
  },
  {
   "cell_type": "markdown",
   "metadata": {},
   "source": [
    "### TravelTime\n",
    "\n",
    "Vergleichbar mit `Speed` werden auch hier die Werte geplottet."
   ]
  },
  {
   "cell_type": "code",
   "execution_count": null,
   "metadata": {},
   "outputs": [],
   "source": [
    "df.TravelTime.plot()\n",
    "plt.show()\n",
    "df.TravelTime.iloc[0:300].plot()\n",
    "plt.show()"
   ]
  },
  {
   "cell_type": "markdown",
   "metadata": {},
   "source": [
    "## Weiterführende Auswertungen\n",
    "\n",
    "Für sich wiederholende Muster gibt es verschiedene Möglichkeiten, diese zu visualisieren.\n",
    "Jede Methode hat ihre eigenen Stärken und Schwächen."
   ]
  },
  {
   "cell_type": "markdown",
   "metadata": {},
   "source": [
    "### Plots mit Gruppierung\n",
    "\n",
    "Anstelle der strikten zeitlichen Abfolge können Plots auch anhand verschiedener anderer Kriterien gruppiert und dann ausgewertet werden.\n",
    "Dies geschieht in pandas mit der Methode `groupby`.\n",
    "\n",
    "Nun wird die durchschnittliche Geschwindigkeit für jede Stunde des Tages geplottet, also von 00:00 bis 23:00."
   ]
  },
  {
   "cell_type": "code",
   "execution_count": null,
   "metadata": {},
   "outputs": [],
   "source": [
    "def extract_hour(pandas_timestamp):\n",
    "    return pandas_timestamp.hour\n",
    "\n",
    "hourly_speed_mean = df.Speed.groupby(extract_hour).agg('mean')\n",
    "hourly_speed_mean.plot()\n",
    "plt.title(\"Durchschnittliche Geschwindigkeit je Uhrzeit, 0 Uhr bis 23 Uhr\")\n",
    "plt.show()"
   ]
  },
  {
   "cell_type": "markdown",
   "metadata": {},
   "source": [
    "Nun wird die Standardabweichung dargestellt.\n",
    "Wie kann man diese nun interpretieren?"
   ]
  },
  {
   "cell_type": "code",
   "execution_count": null,
   "metadata": {},
   "outputs": [],
   "source": [
    "hourly_speed_std = df.Speed.groupby(extract_hour).agg('std')\n",
    "hourly_speed_std.plot()\n",
    "plt.show()"
   ]
  },
  {
   "cell_type": "markdown",
   "metadata": {},
   "source": [
    "## Autokorrelation\n",
    "\n",
    "Wie vielen Minuten entspricht der Lag von 1? \n",
    "Was bedeuten die einzelnen Peaks?\n",
    "Wie lassen sich die gegebenen Peaks erklären?\n",
    "\n",
    "Je nachdem, welchen Monat Sie ausgewählt haben, können Sie die Begrenzung auf die ersten $x$ Einträge auch anpassen.\n",
    "Die hier getroffene Auswahl bezieht sich auf den Juni, in dem ein Peak bei 2000 liegen sollte."
   ]
  },
  {
   "cell_type": "markdown",
   "metadata": {},
   "source": [
    "\n"
   ]
  },
  {
   "cell_type": "code",
   "execution_count": null,
   "metadata": {},
   "outputs": [],
   "source": [
    "autocorrelation_plot(df.TravelTime, alpha=0.7)\n",
    "autocorrelation_plot(df.Speed, alpha=0.7)\n",
    "plt.xlim([0, 5000])  # Begrenze Plot auf die ersten 5000 Einträge\n",
    "plt.show()"
   ]
  },
  {
   "cell_type": "markdown",
   "metadata": {},
   "source": [
    "## Prognose der zweiten Monatshälfte anhand der ersten\n",
    "\n",
    "Wie lässt sich die zweite Monatshälfte mithilfe der ersten Monatshälfte vorhersagen?\n",
    "Vermutlich lassen sich hier die Prinzipien des vorherigen Notebooks zum Thema Gezeiten anwenden."
   ]
  },
  {
   "cell_type": "code",
   "execution_count": null,
   "metadata": {},
   "outputs": [],
   "source": [
    "n = len(df)\n",
    "df_train, df_test = df.iloc[:(n//2)], df.iloc[(n//2):]\n",
    "df_train.info()\n",
    "df_test.info()\n",
    "df_train"
   ]
  },
  {
   "cell_type": "markdown",
   "metadata": {},
   "source": [
    "### Einfachste Schätzung: Mittelwert\n",
    "\n",
    "Eine sehr einfache Annahme ist, dass ein Zufallsprozess vorliegt, der der Gauß'schen Normalverteilung folgt.\n",
    "Alle Ausschläge werden somit als zufällig angesehen.\n",
    "Für Normalverteilungen ist der Mittelwert ein guter Schätzer.\n",
    "Dies ist nun unser Baseline-Modell"
   ]
  },
  {
   "cell_type": "code",
   "execution_count": null,
   "metadata": {},
   "outputs": [],
   "source": [
    "mean = 20  # <-- bestimmen Sie einen passenden Wert\n",
    "rmse = ((mean - df_test.Speed) ** 2).mean() ** .5\n",
    "mean, rmse"
   ]
  },
  {
   "cell_type": "markdown",
   "metadata": {},
   "source": [
    "Jedes Verfahren, das auch nur etwas komplexer als die Mittelwertberechnung ist und dabei höhere Fehler produziert, sollte nur dann verwendet werden, wenn es dafür sehr gute Gründe gibt.\n",
    "Allgemein gilt, das einfache Mittel bevorzugt werden sollen."
   ]
  },
  {
   "cell_type": "markdown",
   "metadata": {},
   "source": [
    "### Naive Schätzung\n",
    "\n",
    "\n",
    "Der nun vorgestellte naive Schätzer funktioniert vergleichbar mit den Gezeiten, nur dass diesmal nicht für jeden Zeitpunkt ein Eintrag vorliegt.\n",
    "Deswegen wird eine Hilfsmethode verwendet, die den nächstgelegenen Eintrag zurückgibt.\n",
    "Wie dies geschieht, braucht Sie nicht weiter interessieren.\n",
    "Doch wie lange ist ein Zyklus? \n",
    "Tragen Sie einen Wert ein, der sich aus der Domäne heraus rechtfertigen lässt.\n",
    "Schauen Sie gerne auf die Ergebnisse aus der Autokorrelation."
   ]
  },
  {
   "cell_type": "code",
   "execution_count": null,
   "metadata": {},
   "outputs": [],
   "source": [
    "zyklus_laenge_in_stunden = 30  # <-- bestimmen Sie einen passenden Wert.\n",
    "\n",
    "def naive_estimator(this_series, t):\n",
    "    if t < first_day:\n",
    "        print(\"Nur für Prognose, nicht in die Vergangenheit\")\n",
    "        return\n",
    "    nearest_entry = get_nearest_entry(this_series, t)\n",
    "    if nearest_entry is not None:\n",
    "        return nearest_entry  # Gebe tatsächlichen Wert zurück\n",
    "    else:\n",
    "        t = t - pd.Timedelta(hours=zyklus_laenge_in_stunden)  # Betrachte Wert des vorherigen Zyklus'\n",
    "        return naive_estimator(this_series, t)"
   ]
  },
  {
   "cell_type": "markdown",
   "metadata": {},
   "source": [
    "Definieren Sie `first_day` und `last_day` anhand des DataFrames `df_train`, wie es bereits bei den Gezeiten vorgenommen worden ist."
   ]
  },
  {
   "cell_type": "code",
   "execution_count": null,
   "metadata": {},
   "outputs": [],
   "source": [
    "first_day = pd.Timestamp('2018-06-01 02:58:04')  # <-- tragen Sie hier etwas ein, was unabhängig vom geladenen Monat ist\n",
    "last_day = pd.Timestamp('2018-06-16 03:08:04')  # <-- tragen Sie hier etwas ein, was unabhängig vom geladenen Monat ist\n",
    "\n",
    "first_day, last_day"
   ]
  },
  {
   "cell_type": "markdown",
   "metadata": {},
   "source": [
    "Benutzen Sie nun die Schätzfunktion, um für die zweite Hälfte des Monats den Verkehr zu schätzen.\n",
    "Am Ende sollte das Ergebnis eine `pd.Series` sein, als Zwischenschritt darf es gerne eine Liste sein.\n",
    "Es lohnt sich der Blick in das vorherige Notebook."
   ]
  },
  {
   "cell_type": "code",
   "execution_count": null,
   "metadata": {},
   "outputs": [],
   "source": []
  },
  {
   "cell_type": "markdown",
   "metadata": {},
   "source": [
    "Plotten Sie zunächst die tatsächlichen Daten.\n",
    "Plotten Sie danach die geschätzten Werte.\n",
    "Ein Tipp: Wenn zweimal `.plot()` aufgerufen wird, werden Ihre Ergebnisse automatisch über die bereits geplotteten Daten gelegt."
   ]
  },
  {
   "cell_type": "code",
   "execution_count": null,
   "metadata": {},
   "outputs": [],
   "source": []
  },
  {
   "cell_type": "markdown",
   "metadata": {},
   "source": [
    "Der soeben erstellte Plot dürfte etwas unübersichtlich erscheinen.\n",
    "Deswegen werden wir nun nur die Abweichung von der Vorhersage zu den tatsächlichen Daten, den sogenannten Fehler, betrachten.\n",
    "Plotten Sie nun den Fehler und ermitteln Sie die Fehler-Statistiken mittels `describe`.\n",
    "Wird die Geschwindigkeit von der Methode eher über- oder unterschätzt?"
   ]
  },
  {
   "cell_type": "code",
   "execution_count": null,
   "metadata": {},
   "outputs": [],
   "source": []
  },
  {
   "cell_type": "markdown",
   "metadata": {},
   "source": [
    "Berechnen Sie nun den RMSE dieser Methode"
   ]
  },
  {
   "cell_type": "code",
   "execution_count": null,
   "metadata": {},
   "outputs": [],
   "source": []
  }
 ],
 "metadata": {
  "kernelspec": {
   "display_name": "Python 3",
   "language": "python",
   "name": "python3"
  },
  "language_info": {
   "codemirror_mode": {
    "name": "ipython",
    "version": 3
   },
   "file_extension": ".py",
   "mimetype": "text/x-python",
   "name": "python",
   "nbconvert_exporter": "python",
   "pygments_lexer": "ipython3",
   "version": "3.7.3"
  },
  "varInspector": {
   "cols": {
    "lenName": 16,
    "lenType": 16,
    "lenVar": 40
   },
   "kernels_config": {
    "python": {
     "delete_cmd_postfix": "",
     "delete_cmd_prefix": "del ",
     "library": "var_list.py",
     "varRefreshCmd": "print(var_dic_list())"
    },
    "r": {
     "delete_cmd_postfix": ") ",
     "delete_cmd_prefix": "rm(",
     "library": "var_list.r",
     "varRefreshCmd": "cat(var_dic_list()) "
    }
   },
   "types_to_exclude": [
    "module",
    "function",
    "builtin_function_or_method",
    "instance",
    "_Feature"
   ],
   "window_display": false
  }
 },
 "nbformat": 4,
 "nbformat_minor": 2
}
