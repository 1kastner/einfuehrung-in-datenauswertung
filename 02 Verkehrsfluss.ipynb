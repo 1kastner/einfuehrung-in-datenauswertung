{
 "cells": [
  {
   "cell_type": "markdown",
   "metadata": {},
   "source": [
    "# Verkehrsfluss\n",
    "\n",
    "Die Stadt New York teilt ausführliche Verkehrsinformationen [hier](https://data.cityofnewyork.us/Transportation/Real-Time-Traffic-Speed-Data/qkm5-nuaq).\n",
    "Diese Verkehrsdaten möchten wir dahingehend untersuchen, ob sich für bestimmte Straßenabschnitte wiederkehrende Muster ergeben."
   ]
  },
  {
   "cell_type": "code",
   "execution_count": null,
   "metadata": {},
   "outputs": [],
   "source": [
    "import os\n",
    "import random\n",
    "\n",
    "import pandas as pd\n",
    "import matplotlib.pyplot as plt\n",
    "from pandas.plotting import autocorrelation_plot\n",
    "\n",
    "pd.options.display.max_rows = 10  # zeige maximal 10 Einträge eines DataFrames an"
   ]
  },
  {
   "cell_type": "markdown",
   "metadata": {},
   "source": [
    "Als Erstes werden die Positionen der Streckenabschnitte geladen.\n",
    "Eine ausführliche Erklärung, was die Attribute bedeuten, ist [hier](https://dev.socrata.com/foundry/data.cityofnewyork.us/i4gi-tjb9) zu finden.\n",
    "Mit `df.head()` werden die ersten paar Zeilen angezeigt."
   ]
  },
  {
   "cell_type": "code",
   "execution_count": null,
   "metadata": {},
   "outputs": [],
   "source": [
    "df = pd.read_json(\"https://data.cityofnewyork.us/resource/i4gi-tjb9.json\")\n",
    "df.head()"
   ]
  },
  {
   "cell_type": "code",
   "execution_count": null,
   "metadata": {},
   "outputs": [],
   "source": [
    "df.info()"
   ]
  },
  {
   "cell_type": "markdown",
   "metadata": {},
   "source": [
    "In diesem Kontext heißt `object`, dass nur Zeichenketten vorliegen.\n",
    "`data_as_of` ist dem Namen nach aber keine Zeichenkette, sondern ein Datum.\n",
    "Somit ist die Repräsentation hier noch nicht ganz optimal."
   ]
  },
  {
   "cell_type": "code",
   "execution_count": null,
   "metadata": {},
   "outputs": [],
   "source": [
    "df = df.assign(data_as_of__as_date=df[\"data_as_of\"].astype('datetime64[ns]'))\n",
    "df.head()"
   ]
  },
  {
   "cell_type": "markdown",
   "metadata": {},
   "source": [
    "Das Attribut `link_id` steht für die Station.\n",
    "Nun wollen wir erst einmal nur eine Station betrachten, und zwar die mit der link_id `4616318`."
   ]
  },
  {
   "cell_type": "code",
   "execution_count": null,
   "metadata": {
    "scrolled": true
   },
   "outputs": [],
   "source": [
    "df_specific_link_id = df[df.link_id == 4616239]                \n",
    "df_specific_link_id.head()"
   ]
  },
  {
   "cell_type": "code",
   "execution_count": null,
   "metadata": {},
   "outputs": [],
   "source": [
    "df_specific_link_id.info()"
   ]
  },
  {
   "cell_type": "markdown",
   "metadata": {},
   "source": [
    "## Visualisierung der betrachteten Strecke\n",
    "\n",
    "Zunächst visualisieren wir uns eine spezifische Strecke, die ausgewertet wird.\n",
    "Dafür wird der Text aus der Tabelle in eine Liste von Listen von Gradzahlen umgerechnet.\n",
    "`latlon` steht hier für Latitude-Longitude (Längengrad-Breitengrad) Koordinaten."
   ]
  },
  {
   "cell_type": "code",
   "execution_count": null,
   "metadata": {},
   "outputs": [],
   "source": [
    "latlons = []\n",
    "coordinate_text = df_specific_link_id.iloc[0][\"link_points\"]\n",
    "print(\"Coordinate text:\", coordinate_text)\n",
    "for latlon in coordinate_text.split(\" \"):\n",
    "    lat, lon = latlon.split(\",\")\n",
    "    lat, lon = float(lat), float(lon)\n",
    "    latlons.append((lat, lon))\n",
    "\n",
    "latlons"
   ]
  },
  {
   "cell_type": "markdown",
   "metadata": {},
   "source": [
    "Diese kann man nun auf einer Karte darstellen.\n",
    "Dafür bietet sich `folium` an."
   ]
  },
  {
   "cell_type": "code",
   "execution_count": null,
   "metadata": {
    "scrolled": true
   },
   "outputs": [],
   "source": [
    "import folium\n",
    "\n",
    "m = folium.Map(latlons[0], zoom_start=11)\n",
    "folium.features.PolyLine(latlons, weight=8).add_to(m)\n",
    "display(m)"
   ]
  },
  {
   "cell_type": "markdown",
   "metadata": {},
   "source": [
    "### Bereinigen der Daten\n",
    "\n",
    "Häufig kommt es bei solchen CSV-Dateien zu Sprüngen, also das Einträge nicht streng der zeitlichen Reihenfolge nach sortiert sind.\n",
    "Dies ist häufig mit Problemen in den technischen Systemen erklärbar.\n",
    "Ob diese Schritte notwendig sind, hängt von der `link_id` ab!"
   ]
  },
  {
   "cell_type": "code",
   "execution_count": null,
   "metadata": {},
   "outputs": [],
   "source": [
    "print(\"is monotonic increasing: \", df.index.is_monotonic_increasing)\n",
    "df_specific_link_id = df_specific_link_id.sort_index()\n",
    "print(\"is monotonic increasing: \", df.index.is_monotonic_increasing)"
   ]
  },
  {
   "cell_type": "markdown",
   "metadata": {},
   "source": [
    "Nun stellt sich die Frage, wie häufig die Daten übermittelt werden.\n",
    "Mit folgendem Trick bekommt man eine Übersicht:"
   ]
  },
  {
   "cell_type": "markdown",
   "metadata": {},
   "source": [
    "### Attribut speed\n",
    "\n",
    "Im Folgenden werden die Werte geplottet, um einen visuellen Eindruck zu erhalten.\n",
    "Mit `iloc` werden nur die ersten 300 Einträge geplottet."
   ]
  },
  {
   "cell_type": "code",
   "execution_count": null,
   "metadata": {
    "scrolled": false
   },
   "outputs": [],
   "source": [
    "df_specific_link_id.set_index(\"data_as_of__as_date\").speed.plot()\n",
    "plt.show()"
   ]
  }
 ],
 "metadata": {
  "kernelspec": {
   "display_name": "Python 3",
   "language": "python",
   "name": "python3"
  },
  "language_info": {
   "codemirror_mode": {
    "name": "ipython",
    "version": 3
   },
   "file_extension": ".py",
   "mimetype": "text/x-python",
   "name": "python",
   "nbconvert_exporter": "python",
   "pygments_lexer": "ipython3",
   "version": "3.7.3"
  },
  "varInspector": {
   "cols": {
    "lenName": 16,
    "lenType": 16,
    "lenVar": 40
   },
   "kernels_config": {
    "python": {
     "delete_cmd_postfix": "",
     "delete_cmd_prefix": "del ",
     "library": "var_list.py",
     "varRefreshCmd": "print(var_dic_list())"
    },
    "r": {
     "delete_cmd_postfix": ") ",
     "delete_cmd_prefix": "rm(",
     "library": "var_list.r",
     "varRefreshCmd": "cat(var_dic_list()) "
    }
   },
   "types_to_exclude": [
    "module",
    "function",
    "builtin_function_or_method",
    "instance",
    "_Feature"
   ],
   "window_display": false
  }
 },
 "nbformat": 4,
 "nbformat_minor": 2
}
