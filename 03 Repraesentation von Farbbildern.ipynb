{
 "cells": [
  {
   "cell_type": "markdown",
   "metadata": {
    "slideshow": {
     "slide_type": "skip"
    }
   },
   "source": [
    "<a rel=\"license\" href=\"http://creativecommons.org/licenses/by/4.0/\"><img alt=\"Creative Commons Lizenzvertrag\" style=\"border-width:0\" src=\"https://i.creativecommons.org/l/by/4.0/88x31.png\" /></a><br />Dieses Werk von Marvin Kastner ist lizenziert unter einer <a rel=\"license\" href=\"http://creativecommons.org/licenses/by/4.0/\">Creative Commons Namensnennung 4.0 International Lizenz</a>."
   ]
  },
  {
   "cell_type": "markdown",
   "metadata": {
    "slideshow": {
     "slide_type": "slide"
    }
   },
   "source": [
    "# Repräsentation von Bildern\n",
    "\n",
    "Bilder werden häufig in Form von Rastergrafiken gespeichert.\n",
    "Dies bedeutet, dass ein Bild mit einer Breite $m$ und einer Höhe $n$ dann $m \\times n$ Pixel groß ist.\n",
    "Ein Pixel ist ein \"Picture Element\", also die Farbe an einer bestimmten Stelle.\n",
    "Ein Bild kann somit als eine Matrix von Pixeln dargestellt werden.\n",
    "\n",
    "Im Folgenden werden die notwendigen Bibliotheken geladen:"
   ]
  },
  {
   "cell_type": "code",
   "execution_count": null,
   "metadata": {
    "slideshow": {
     "slide_type": "fragment"
    }
   },
   "outputs": [],
   "source": [
    "import imageio\n",
    "import matplotlib.pyplot as plt\n",
    "import skimage.transform\n",
    "import skimage.color\n",
    "import pandas as pd"
   ]
  },
  {
   "cell_type": "markdown",
   "metadata": {
    "slideshow": {
     "slide_type": "slide"
    }
   },
   "source": [
    "Die Bibliothek `imageio` enthält eine Reihe von Beispielbildern, die man einfach verwenden kann.\n",
    "Dies nimmt dem Entwickler Lizenzfragen ab.\n",
    "\n",
    "Ein Bild verfügt über eine Breite und eine Höhe.\n",
    "Ebenfalls gibt es hier die Variable `dim`, die Anzahl der Layer.\n",
    "Grauwertbilder haben nur einen Layer, die Intensitätswerte.\n",
    "Farbbilder verfügen über mehrere Layer:\n",
    "Für die Farben Rot, Grün und Blau werden jeweils die Intensitätswerte angegeben."
   ]
  },
  {
   "cell_type": "code",
   "execution_count": null,
   "metadata": {
    "slideshow": {
     "slide_type": "fragment"
    }
   },
   "outputs": [],
   "source": [
    "color_image = imageio.imread(\"imageio:chelsea.png\")\n",
    "plt.imshow(color_image)\n",
    "plt.show()"
   ]
  },
  {
   "cell_type": "code",
   "execution_count": null,
   "metadata": {
    "slideshow": {
     "slide_type": "fragment"
    }
   },
   "outputs": [],
   "source": [
    "height, width, dim = color_image.shape\n",
    "height, width, dim"
   ]
  },
  {
   "cell_type": "markdown",
   "metadata": {
    "slideshow": {
     "slide_type": "slide"
    }
   },
   "source": [
    "Dieses Bild kann man sich auch als Matrix anzeigen lassen, indem man sich den Wert der Variablen `color_image` direkt anzeigen lässt."
   ]
  },
  {
   "cell_type": "code",
   "execution_count": null,
   "metadata": {
    "slideshow": {
     "slide_type": "fragment"
    }
   },
   "outputs": [],
   "source": [
    "color_image"
   ]
  },
  {
   "cell_type": "markdown",
   "metadata": {
    "slideshow": {
     "slide_type": "slide"
    }
   },
   "source": [
    "Man kann auf die einzelnen Farben mithilfe der Befehle `color_image[:,:,0]`, `color_image[:,:,1]` und `color_image[:,:,2]` direkt zugreifen.\n",
    "Dies entspricht den Intensitätswerten der Farben Rot, Grün und Blau."
   ]
  },
  {
   "cell_type": "code",
   "execution_count": null,
   "metadata": {
    "slideshow": {
     "slide_type": "fragment"
    }
   },
   "outputs": [],
   "source": [
    "plt.imshow(color_image[:,:,0], cmap=\"gray\")\n",
    "plt.show()\n",
    "plt.imshow(color_image[:,:,1], cmap=\"gray\")\n",
    "plt.show()\n",
    "plt.imshow(color_image[:,:,2], cmap=\"gray\")\n",
    "plt.show()"
   ]
  },
  {
   "cell_type": "markdown",
   "metadata": {
    "slideshow": {
     "slide_type": "fragment"
    }
   },
   "source": [
    "Das oberste Bild, das den Rotanteil repräsentiert ist sehr hell, sprich die Intensität ist hoch.\n",
    "Das unterste Bild, das den Blauanteil repräsentiert, ist eher dunkel, sprich die Intenität ist niedrig.\n",
    "Dadurch können wir darauf schließen, dass die Katze eher rötlich als bläulich aussieht.\n",
    "\n",
    "Eine andere Möglichkeit, dies zu visualisieren, sind Histogramme.\n",
    "Dafür werden mithilfe der Methode `flatten` alle Pixel nacheinander gesetzt und sind somit eine 1-dimensionale Liste.\n",
    "Dann werden die Häufigkeiten der Zahlenwerte analysiert."
   ]
  },
  {
   "cell_type": "code",
   "execution_count": null,
   "metadata": {
    "slideshow": {
     "slide_type": "slide"
    }
   },
   "outputs": [],
   "source": [
    "plt.hist(color_image[:,:,0].flatten(), bins='auto', color=\"red\", alpha=.4, label=\"rot\")\n",
    "plt.hist(color_image[:,:,1].flatten(), bins='auto', color=\"green\", alpha=.4, label=\"grün\")\n",
    "plt.hist(color_image[:,:,2].flatten(), bins='auto', color=\"darkblue\", alpha=.4, label=\"blau\")\n",
    "plt.title(\"Histogramm Rot-Grün-Blau\")\n",
    "plt.legend()\n",
    "plt.xlim([0, 255])\n",
    "plt.show()"
   ]
  },
  {
   "cell_type": "markdown",
   "metadata": {
    "slideshow": {
     "slide_type": "slide"
    }
   },
   "source": [
    "Nun verwerfen wir die Farbinformationen und arbeiten nur mit den Grauwerten weiter.\n",
    "Dafür werden die drei Farben in Grauwerte umgerechnet."
   ]
  },
  {
   "cell_type": "code",
   "execution_count": null,
   "metadata": {
    "slideshow": {
     "slide_type": "fragment"
    }
   },
   "outputs": [],
   "source": [
    "gray_image = skimage.color.rgb2gray(color_image)\n",
    "plt.imshow(gray_image, cmap=\"gray\")\n",
    "plt.show()"
   ]
  },
  {
   "cell_type": "markdown",
   "metadata": {
    "slideshow": {
     "slide_type": "slide"
    }
   },
   "source": [
    "Im nächsten Schritt skalieren wir das Bild auf sehr wenige Pixel herunter.\n",
    "Dadurch werden die Matrizen kleiner und besser verständlich."
   ]
  },
  {
   "cell_type": "code",
   "execution_count": null,
   "metadata": {
    "scrolled": true,
    "slideshow": {
     "slide_type": "fragment"
    }
   },
   "outputs": [],
   "source": [
    "small_image = skimage.transform.resize(gray_image, [int(height/16), int(width/16)], mode=\"constant\")\n",
    "plt.imshow(small_image, cmap=\"gray\")\n",
    "plt.show()"
   ]
  },
  {
   "cell_type": "markdown",
   "metadata": {
    "slideshow": {
     "slide_type": "slide"
    }
   },
   "source": [
    "Hier kann man die Katze nur noch erahnen.\n",
    "Dafür werden aber nun alle Werte der Matrix dargestellt."
   ]
  },
  {
   "cell_type": "code",
   "execution_count": null,
   "metadata": {
    "slideshow": {
     "slide_type": "fragment"
    }
   },
   "outputs": [],
   "source": [
    "small_image"
   ]
  },
  {
   "cell_type": "markdown",
   "metadata": {
    "slideshow": {
     "slide_type": "fragment"
    }
   },
   "source": [
    "Wie kann man nun die Intensitätswerte interpretieren?\n",
    "Sie liegen zwischen 0 und 1: Eine hohe Intensität wird durch die Farbe Weiß repräsentiert und der Zahlenwert ist nahe 1.\n",
    "Niedrige Intensitäten werden durch die Farbe Schwarz repräsentiert und der Zahlenwert ist nahe 0."
   ]
  },
  {
   "cell_type": "markdown",
   "metadata": {
    "slideshow": {
     "slide_type": "slide"
    }
   },
   "source": [
    "Eine übersichtlichere Darstellung kann man dadurch erhalten, dass man `pandas` einsetzt.\n",
    "An dieser Stelle wird das Modul nur dafür eingesetzt, die Matrix schön zu layouten."
   ]
  },
  {
   "cell_type": "code",
   "execution_count": null,
   "metadata": {
    "slideshow": {
     "slide_type": "fragment"
    }
   },
   "outputs": [],
   "source": [
    "small_image_as_df = pd.DataFrame(small_image)\n",
    "small_image_as_df"
   ]
  },
  {
   "cell_type": "markdown",
   "metadata": {
    "slideshow": {
     "slide_type": "slide"
    }
   },
   "source": [
    "Eine andere häufige Repräsentation sind Intensitätswerte zwischen 0 (schwarz) und 255 (weiß).\n",
    "Dies kann man einfach durch das Multiplizieren mit einem Skalar erhalten.\n",
    "Danach muss noch der Typ von `float` auf `int` geändert werden."
   ]
  },
  {
   "cell_type": "code",
   "execution_count": null,
   "metadata": {
    "slideshow": {
     "slide_type": "fragment"
    }
   },
   "outputs": [],
   "source": [
    "small_image_as_int = (small_image * 255).astype(int)\n",
    "pd.DataFrame(small_image_as_int)"
   ]
  },
  {
   "cell_type": "markdown",
   "metadata": {
    "slideshow": {
     "slide_type": "slide"
    }
   },
   "source": [
    "Diese neue Repräsentation lässt sich genauso als Bild darstellen."
   ]
  },
  {
   "cell_type": "code",
   "execution_count": null,
   "metadata": {
    "slideshow": {
     "slide_type": "fragment"
    }
   },
   "outputs": [],
   "source": [
    "plt.imshow(small_image_as_int, cmap=\"gray\")\n",
    "plt.show()"
   ]
  },
  {
   "cell_type": "markdown",
   "metadata": {
    "slideshow": {
     "slide_type": "fragment"
    }
   },
   "source": [
    "Wie man sieht, ist die Darstellung als Bild gleich.\n",
    "Ob man Werte zwischen 0 und 1 (float) oder zwischen 0 und 255 (int) verwendet, ist nur eine Frage der internen Darstellung.\n",
    "Darüber hinaus gibt es noch viele andere Möglichkeiten, Intensitätswerte als Zahlen zu repräsentieren."
   ]
  }
 ],
 "metadata": {
  "celltoolbar": "Slideshow",
  "kernelspec": {
   "display_name": "Python 3",
   "language": "python",
   "name": "python3"
  },
  "language_info": {
   "codemirror_mode": {
    "name": "ipython",
    "version": 3
   },
   "file_extension": ".py",
   "mimetype": "text/x-python",
   "name": "python",
   "nbconvert_exporter": "python",
   "pygments_lexer": "ipython3",
   "version": "3.7.3"
  },
  "varInspector": {
   "cols": {
    "lenName": 16,
    "lenType": 16,
    "lenVar": 40
   },
   "kernels_config": {
    "python": {
     "delete_cmd_postfix": "",
     "delete_cmd_prefix": "del ",
     "library": "var_list.py",
     "varRefreshCmd": "print(var_dic_list())"
    },
    "r": {
     "delete_cmd_postfix": ") ",
     "delete_cmd_prefix": "rm(",
     "library": "var_list.r",
     "varRefreshCmd": "cat(var_dic_list()) "
    }
   },
   "types_to_exclude": [
    "module",
    "function",
    "builtin_function_or_method",
    "instance",
    "_Feature"
   ],
   "window_display": false
  },
  "widgets": {
   "application/vnd.jupyter.widget-state+json": {
    "state": {},
    "version_major": 2,
    "version_minor": 0
   }
  }
 },
 "nbformat": 4,
 "nbformat_minor": 2
}
